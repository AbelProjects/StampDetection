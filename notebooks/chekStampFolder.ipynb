{
 "cells": [
  {
   "cell_type": "code",
   "execution_count": 1,
   "id": "f4ea8bdd",
   "metadata": {},
   "outputs": [],
   "source": [
    "import os\n",
    "import sys\n",
    "sys.path.append('../src')\n",
    "from stamp_engine import FolderEngine"
   ]
  },
  {
   "cell_type": "code",
   "execution_count": 2,
   "id": "a52af76f",
   "metadata": {},
   "outputs": [],
   "source": [
    "#Относительный путь к папке с пдф-файлами\n",
    "relative_folder_path = '../data/color/pdf_docs/subsample_docs'\n",
    "# Преобразуем относительный путь в абсолютный\n",
    "folder_path = os.path.abspath(relative_folder_path)\n",
    "# Инициализируем объект\n",
    "engine = FolderEngine(folder_path)"
   ]
  },
  {
   "cell_type": "code",
   "execution_count": 2,
   "id": "a018d6fc",
   "metadata": {},
   "outputs": [],
   "source": [
    "# Запускаем функцию сортировки по папкам\n",
    "# параметр folders_path - папка внутри которой будет создано две папки: stamped и not_stamped\n",
    "# В данном случае мы создаем две папки внутри папки с файлами\n",
    "engine.make_stamp_folders(folders_path=folder_path, move_files=True)"
   ]
  },
  {
   "cell_type": "code",
   "execution_count": 8,
   "id": "caaeb5fb",
   "metadata": {},
   "outputs": [
    {
     "data": {
      "text/plain": [
       "'/Users/belyakov/Desktop/StampRecognition/StampDetection/data/color/pdf_docs/subsample_docs'"
      ]
     },
     "execution_count": 8,
     "metadata": {},
     "output_type": "execute_result"
    }
   ],
   "source": [
    "folder_path"
   ]
  },
  {
   "cell_type": "code",
   "execution_count": 3,
   "id": "d83d97b8",
   "metadata": {},
   "outputs": [],
   "source": [
    "engine.find_stamps()"
   ]
  },
  {
   "cell_type": "code",
   "execution_count": 4,
   "id": "841dd0c1",
   "metadata": {},
   "outputs": [
    {
     "data": {
      "text/plain": [
       "True"
      ]
     },
     "execution_count": 4,
     "metadata": {},
     "output_type": "execute_result"
    }
   ],
   "source": [
    "engine.pdf_docs['2017-12-29_АО Дальневосточная транспортная группа_ДВТГ ТЭО.pdf'].stamp_flg"
   ]
  },
  {
   "cell_type": "code",
   "execution_count": 5,
   "id": "4bbe8458",
   "metadata": {},
   "outputs": [],
   "source": [
    "engine._create_folders(folders_path=folder_path)"
   ]
  },
  {
   "cell_type": "code",
   "execution_count": 6,
   "id": "4a8c2bd6",
   "metadata": {},
   "outputs": [],
   "source": [
    "engine.make_stamp_folders(folders_path=folder_path)"
   ]
  },
  {
   "cell_type": "code",
   "execution_count": null,
   "id": "dbb482a8",
   "metadata": {},
   "outputs": [],
   "source": []
  }
 ],
 "metadata": {
  "kernelspec": {
   "display_name": "Python 3",
   "language": "python",
   "name": "python3"
  },
  "language_info": {
   "codemirror_mode": {
    "name": "ipython",
    "version": 3
   },
   "file_extension": ".py",
   "mimetype": "text/x-python",
   "name": "python",
   "nbconvert_exporter": "python",
   "pygments_lexer": "ipython3",
   "version": "3.9.12"
  }
 },
 "nbformat": 4,
 "nbformat_minor": 5
}
