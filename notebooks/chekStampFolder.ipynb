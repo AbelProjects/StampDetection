{
 "cells": [
  {
   "cell_type": "code",
   "execution_count": 1,
   "id": "3e461b61",
   "metadata": {},
   "outputs": [],
   "source": [
    "import os\n",
    "import sys\n",
    "sys.path.append('../src')\n",
    "from stamp_engine import FolderEngine"
   ]
  },
  {
   "cell_type": "code",
   "execution_count": 2,
   "id": "05bcdfba",
   "metadata": {},
   "outputs": [],
   "source": [
    "relative_folder_path = '../data/color/pdf_docs/subsample_docs'\n",
    "folder_path = os.path.abspath(relative_folder_path)\n",
    "engine = FolderEngine(folder_path)"
   ]
  },
  {
   "cell_type": "code",
   "execution_count": 3,
   "id": "d01e57c3",
   "metadata": {},
   "outputs": [],
   "source": [
    "engine.find_stamps()"
   ]
  },
  {
   "cell_type": "code",
   "execution_count": 4,
   "id": "821b21a7",
   "metadata": {},
   "outputs": [
    {
     "data": {
      "text/plain": [
       "True"
      ]
     },
     "execution_count": 4,
     "metadata": {},
     "output_type": "execute_result"
    }
   ],
   "source": [
    "engine.pdf_docs['2017-12-29_АО Дальневосточная транспортная группа_ДВТГ ТЭО.pdf'].stamp_flg"
   ]
  },
  {
   "cell_type": "code",
   "execution_count": 5,
   "id": "b6c0670a",
   "metadata": {},
   "outputs": [],
   "source": [
    "engine._create_folders(folders_path=folder_path)"
   ]
  },
  {
   "cell_type": "code",
   "execution_count": 6,
   "id": "5dcad9ca",
   "metadata": {},
   "outputs": [],
   "source": [
    "engine.make_stamp_folders(folders_path=folder_path)"
   ]
  },
  {
   "cell_type": "code",
   "execution_count": null,
   "id": "db53ad9a",
   "metadata": {},
   "outputs": [],
   "source": []
  }
 ],
 "metadata": {
  "kernelspec": {
   "display_name": "Python 3",
   "language": "python",
   "name": "python3"
  },
  "language_info": {
   "codemirror_mode": {
    "name": "ipython",
    "version": 3
   },
   "file_extension": ".py",
   "mimetype": "text/x-python",
   "name": "python",
   "nbconvert_exporter": "python",
   "pygments_lexer": "ipython3",
   "version": "3.9.12"
  }
 },
 "nbformat": 4,
 "nbformat_minor": 5
}
